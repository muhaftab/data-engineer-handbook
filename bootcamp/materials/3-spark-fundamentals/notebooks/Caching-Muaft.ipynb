{
 "cells": [
  {
   "cell_type": "code",
   "execution_count": 1,
   "id": "e9ae4c8b-4599-4fbb-a545-76b6e3bcb84d",
   "metadata": {},
   "outputs": [
    {
     "data": {
      "text/plain": [
       "Intitializing Scala interpreter ..."
      ]
     },
     "metadata": {},
     "output_type": "display_data"
    },
    {
     "data": {
      "text/plain": [
       "Spark Web UI available at http://a5334d0c957e:4042\n",
       "SparkContext available as 'sc' (version = 3.5.5, master = local[*], app id = local-1753559872031)\n",
       "SparkSession available as 'spark'\n"
      ]
     },
     "metadata": {},
     "output_type": "display_data"
    },
    {
     "data": {
      "text/plain": [
       "import org.apache.spark.sql.functions._\n",
       "import org.apache.spark.storage.StorageLevel\n",
       "users: org.apache.spark.sql.Dataset[org.apache.spark.sql.Row] = [user_id: int, device_id: int ... 4 more fields]\n",
       "devices: org.apache.spark.sql.DataFrame = [device_id: int, browser_type: string ... 2 more fields]\n",
       "executionDate: String = 2023-01-01\n"
      ]
     },
     "execution_count": 1,
     "metadata": {},
     "output_type": "execute_result"
    }
   ],
   "source": [
    "import org.apache.spark.sql.functions._\n",
    "import org.apache.spark.storage.StorageLevel\n",
    "\n",
    "spark.conf.set(\"spark.sql.autoBroadcastJoinThreshold\", \"-1\")\n",
    "spark.conf.set(\"spark.sql.analyzer.failAmbiguousSelfJoin\", \"false\")\n",
    "spark.conf.set(\"spark.sql.shuffle.partitions\", \"4\")\n",
    "\n",
    "val users = spark.read.option(\"header\", \"true\")\n",
    "                        .option(\"inferSchema\", \"true\")\n",
    "                        .csv(\"/home/iceberg/data/events.csv\")\n",
    "                        .where($\"user_id\".isNotNull)\n",
    "\n",
    "users.createOrReplaceTempView(\"events\")\n",
    "\n",
    "val devices = spark.read.option(\"header\", \"true\")\n",
    "                        .option(\"inferSchema\", \"true\")\n",
    "                        .csv(\"/home/iceberg/data/devices.csv\")\n",
    "\n",
    "devices.createOrReplaceTempView(\"devices\")\n",
    "\n",
    "val executionDate = \"2023-01-01\"\n",
    "\n"
   ]
  },
  {
   "cell_type": "code",
   "execution_count": 4,
   "id": "284c34b3-974c-4a49-96c3-b414f2619a14",
   "metadata": {},
   "outputs": [
    {
     "data": {
      "text/plain": [
       "eventsAggregated: org.apache.spark.sql.Dataset[org.apache.spark.sql.Row] = [user_id: int, device_id: int ... 2 more fields]\n"
      ]
     },
     "execution_count": 4,
     "metadata": {},
     "output_type": "execute_result"
    }
   ],
   "source": [
    "val eventsAggregated = spark.sql(f\"\"\"\n",
    "    SELECT user_id, device_id, count(1) as event_counts, COLLECT_LIST(DISTINCT host) as host_array\n",
    "    FROM events\n",
    "    GROUP BY user_id, device_id\n",
    "\"\"\").persist(StorageLevel.MEMORY_ONLY)\n",
    "\n"
   ]
  },
  {
   "cell_type": "code",
   "execution_count": null,
   "id": "2697eeae-d95d-4798-8a1e-aa85d2718214",
   "metadata": {},
   "outputs": [],
   "source": [
    "//Caching here should be < 5 GBs or used for broadcast join\n",
    "//You need to tune executor memory otherwise it'll spill to disk and be slow\n",
    "//Don't really try using any of the other StorageLevel besides MEMORY_ONLY\n",
    "\n",
    "val eventsAggregated = spark.sql(f\"\"\"\n",
    "  SELECT user_id, \n",
    "          device_id, \n",
    "        COUNT(1) as event_counts, \n",
    "        COLLECT_LIST(DISTINCT host) as host_array\n",
    "  FROM events\n",
    "  GROUP BY 1,2\n",
    "\"\"\").cache()\n",
    "\n",
    "// eventsAggregated.write.mode(\"overwrite\").saveAsTable(\"bootcamp.events_aggregated_staging\")\n",
    "\n",
    "spark.sql(f\"\"\"\n",
    "    CREATE TABLE IF NOT EXISTS bootcamp.events_aggregated_staging (\n",
    "        user_id BIGINT,\n",
    "        device_id BIGINT,\n",
    "        event_counts BIGINT,\n",
    "        host_array ARRAY<STRING>\n",
    "    )\n",
    "    PARTITIONED BY (ds STRING)\n",
    "\"\"\")\n",
    "\n",
    "\n",
    "val usersAndDevices = users\n",
    "  .join(eventsAggregated, eventsAggregated(\"user_id\") === users(\"user_id\"))\n",
    "  .groupBy(users(\"user_id\"))\n",
    "  .agg(\n",
    "    users(\"user_id\"),\n",
    "    max(eventsAggregated(\"event_counts\")).as(\"total_hits\"),\n",
    "    collect_list(eventsAggregated(\"device_id\")).as(\"devices\")\n",
    "  )\n",
    "\n",
    "val devicesOnEvents = devices\n",
    "      .join(eventsAggregated, devices(\"device_id\") === eventsAggregated(\"device_id\"))\n",
    "      .groupBy(devices(\"device_id\"), devices(\"device_type\"))\n",
    "      .agg(\n",
    "        devices(\"device_id\"),\n",
    "        devices(\"device_type\"),\n",
    "         collect_list(eventsAggregated(\"user_id\")).as(\"users\")\n",
    "      )\n",
    "\n",
    "devicesOnEvents.explain()\n",
    "usersAndDevices.explain()\n",
    "\n",
    "devicesOnEvents.take(1)\n",
    "usersAndDevices.take(1)"
   ]
  },
  {
   "cell_type": "code",
   "execution_count": 19,
   "id": "c36feefd-a8cd-4749-81fd-8f7883349ba1",
   "metadata": {},
   "outputs": [
    {
     "data": {
      "text/plain": [
       "res18: eventsAggregated.type = [user_id: int, device_id: int ... 2 more fields]\n"
      ]
     },
     "execution_count": 19,
     "metadata": {},
     "output_type": "execute_result"
    }
   ],
   "source": [
    "eventsAggregated.unpersist()"
   ]
  },
  {
   "cell_type": "code",
   "execution_count": null,
   "id": "02886a49-4dc5-4e00-9cad-20926166f388",
   "metadata": {},
   "outputs": [],
   "source": []
  }
 ],
 "metadata": {
  "kernelspec": {
   "display_name": "spylon-kernel",
   "language": "scala",
   "name": "spylon-kernel"
  },
  "language_info": {
   "codemirror_mode": "text/x-scala",
   "file_extension": ".scala",
   "help_links": [
    {
     "text": "MetaKernel Magics",
     "url": "https://metakernel.readthedocs.io/en/latest/source/README.html"
    }
   ],
   "mimetype": "text/x-scala",
   "name": "scala",
   "pygments_lexer": "scala",
   "version": "0.4.1"
  }
 },
 "nbformat": 4,
 "nbformat_minor": 5
}
