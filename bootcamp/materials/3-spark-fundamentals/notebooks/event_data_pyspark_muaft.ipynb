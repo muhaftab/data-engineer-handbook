{
 "cells": [
  {
   "cell_type": "code",
   "execution_count": 2,
   "id": "591ba0b7-2e6f-420a-960d-95e5734b0166",
   "metadata": {},
   "outputs": [
    {
     "name": "stderr",
     "output_type": "stream",
     "text": [
      "25/07/26 11:34:50 WARN SparkSession: Using an existing Spark session; only runtime SQL configurations will take effect.\n"
     ]
    }
   ],
   "source": [
    "from pyspark.sql import SparkSession\n",
    "from pyspark.sql.functions import expr, col, lit\n",
    "\n",
    "spark = SparkSession.builder.appName(\"Jupyter\").getOrCreate()"
   ]
  },
  {
   "cell_type": "code",
   "execution_count": 14,
   "id": "677d45a6-7daa-470d-9649-b3dffc97354d",
   "metadata": {},
   "outputs": [
    {
     "name": "stdout",
     "output_type": "stream",
     "text": [
      "+----------+-----------+--------+--------------------+----------+--------------------+-------------------+--------------+---------+-----------+\n",
      "| device_id|    user_id|referrer|                host|       url|          event_time|         event_date|browser_family|os_family|device_type|\n",
      "+----------+-----------+--------+--------------------+----------+--------------------+-------------------+--------------+---------+-----------+\n",
      "| 532630305| 1037710827|    NULL| www.zachwilson.tech|         /|2021-03-08 17:27:...|2021-03-08 00:00:00|         Other|    Other|      Other|\n",
      "| 532630305|  925588856|    NULL|    www.eczachly.com|         /|2021-05-10 11:26:...|2021-05-10 00:00:00|         Other|    Other|      Other|\n",
      "| 532630305|-1180485268|    NULL|admin.zachwilson....|         /|2021-02-17 16:19:...|2021-02-17 00:00:00|         Other|    Other|      Other|\n",
      "| 532630305|-1044833855|    NULL| www.zachwilson.tech|         /|2021-09-24 15:53:...|2021-09-24 00:00:00|         Other|    Other|      Other|\n",
      "| 532630305|  747494706|    NULL| www.zachwilson.tech|         /|2021-09-26 16:03:...|2021-09-26 00:00:00|         Other|    Other|      Other|\n",
      "| 532630305|  747494706|    NULL|admin.zachwilson....|         /|2021-02-21 16:08:...|2021-02-21 00:00:00|         Other|    Other|      Other|\n",
      "| 532630305| -824540328|    NULL|admin.zachwilson....|         /|2021-09-28 17:23:...|2021-09-28 00:00:00|         Other|    Other|      Other|\n",
      "| 532630305| -824540328|    NULL|    www.eczachly.com|         /|2021-09-29 01:22:...|2021-09-29 00:00:00|         Other|    Other|      Other|\n",
      "| 532630305| 1833036683|    NULL|admin.zachwilson....|         /|2021-01-24 03:15:...|2021-01-24 00:00:00|         Other|    Other|      Other|\n",
      "| 532630305|-2134824313|    NULL|    www.eczachly.com|         /|2021-01-25 00:03:...|2021-01-25 00:00:00|         Other|    Other|      Other|\n",
      "|-906264142|-1809929467|    NULL|admin.zachwilson....|/.git/HEAD|2021-02-22 01:36:...|2021-02-22 00:00:00|          curl|    Other|      Other|\n",
      "|-906264142| 2002285749|    NULL|    www.eczachly.com|         /|2021-02-22 02:25:...|2021-02-22 00:00:00|          curl|    Other|      Other|\n",
      "| 532630305|-1562965412|    NULL| www.zachwilson.tech|         /|2021-01-30 20:46:...|2021-01-30 00:00:00|         Other|    Other|      Other|\n",
      "| 532630305|-1099860451|    NULL|    www.eczachly.com|         /|2021-02-04 23:49:...|2021-02-04 00:00:00|         Other|    Other|      Other|\n",
      "|-906264142| 1246896869|    NULL| www.zachwilson.tech|         /|2021-02-22 02:50:...|2021-02-22 00:00:00|          curl|    Other|      Other|\n",
      "|-906264142| -629331502|    NULL|admin.zachwilson....|/.git/HEAD|2021-02-22 23:51:...|2021-02-22 00:00:00|          curl|    Other|      Other|\n",
      "|-906264142|-1913422462|    NULL|    www.eczachly.com|         /|2021-02-23 00:17:...|2021-02-23 00:00:00|          curl|    Other|      Other|\n",
      "| 532630305|   50429624|    NULL|    www.eczachly.com|         /|2022-12-28 01:38:...|2022-12-28 00:00:00|         Other|    Other|      Other|\n",
      "| 532630305|  222389292|    NULL| www.zachwilson.tech|         /|2022-12-28 05:23:...|2022-12-28 00:00:00|         Other|    Other|      Other|\n",
      "| 532630305| -779924777|    NULL| www.zachwilson.tech|         /|2022-12-28 16:45:...|2022-12-28 00:00:00|         Other|    Other|      Other|\n",
      "+----------+-----------+--------+--------------------+----------+--------------------+-------------------+--------------+---------+-----------+\n",
      "only showing top 20 rows\n",
      "\n"
     ]
    }
   ],
   "source": [
    "events = (spark.read.option(\"header\", \"true\")\n",
    "            .csv(\"/home/iceberg/data/events.csv\")\n",
    "            .withColumn(\"event_date\", expr(\"DATE_TRUNC('day', event_time)\"))    \n",
    "         )\n",
    "devices = spark.read.option(\"header\", \"true\").csv(\"/home/iceberg/data/devices.csv\")\n",
    "    \n",
    "df = events.join(devices, on=\"device_id\", how=\"left\").withColumnsRenamed({\"browser_type\": \"browser_family\", \"os_type\": \"os_family\"})\n",
    "\n",
    "df.show()"
   ]
  },
  {
   "cell_type": "code",
   "execution_count": 22,
   "id": "5f50d075-32a9-49f7-b7e1-56d11085a227",
   "metadata": {},
   "outputs": [
    {
     "name": "stdout",
     "output_type": "stream",
     "text": [
      "== Physical Plan ==\n",
      "AdaptiveSparkPlan isFinalPlan=false\n",
      "+- Project [device_id#475, user_id#474, referrer#476, host#477, url#478, cast(event_time#479 as timestamp) AS event_time#1021, event_date#486, browser_family#531, os_family#532, device_type#515]\n",
      "   +- Sort [event_date#486 ASC NULLS FIRST, host#477 ASC NULLS FIRST, browser_family#531 ASC NULLS FIRST], false, 0\n",
      "      +- Exchange hashpartitioning(event_date#486, 10), REPARTITION_BY_NUM, [plan_id=1417]\n",
      "         +- Project [device_id#475, user_id#474, referrer#476, host#477, url#478, event_time#479, event_date#486, browser_type#513 AS browser_family#531, os_type#514 AS os_family#532, device_type#515]\n",
      "            +- BroadcastHashJoin [device_id#475], [device_id#512], LeftOuter, BuildRight, false\n",
      "               :- Project [user_id#474, device_id#475, referrer#476, host#477, url#478, event_time#479, date_trunc(day, cast(event_time#479 as timestamp), Some(Etc/UTC)) AS event_date#486]\n",
      "               :  +- FileScan csv [user_id#474,device_id#475,referrer#476,host#477,url#478,event_time#479] Batched: false, DataFilters: [], Format: CSV, Location: InMemoryFileIndex(1 paths)[file:/home/iceberg/data/events.csv], PartitionFilters: [], PushedFilters: [], ReadSchema: struct<user_id:string,device_id:string,referrer:string,host:string,url:string,event_time:string>\n",
      "               +- BroadcastExchange HashedRelationBroadcastMode(List(input[0, string, false]),false), [plan_id=1414]\n",
      "                  +- Filter isnotnull(device_id#512)\n",
      "                     +- FileScan csv [device_id#512,browser_type#513,os_type#514,device_type#515] Batched: false, DataFilters: [isnotnull(device_id#512)], Format: CSV, Location: InMemoryFileIndex(1 paths)[file:/home/iceberg/data/devices.csv], PartitionFilters: [], PushedFilters: [IsNotNull(device_id)], ReadSchema: struct<device_id:string,browser_type:string,os_type:string,device_type:string>\n",
      "\n",
      "\n",
      "== Physical Plan ==\n",
      "AdaptiveSparkPlan isFinalPlan=false\n",
      "+- Project [device_id#475, user_id#474, referrer#476, host#477, url#478, cast(event_time#479 as timestamp) AS event_time#1032, event_date#486, browser_family#531, os_family#532, device_type#515]\n",
      "   +- Sort [event_date#486 ASC NULLS FIRST, host#477 ASC NULLS FIRST, browser_family#531 ASC NULLS FIRST], true, 0\n",
      "      +- Exchange rangepartitioning(event_date#486 ASC NULLS FIRST, host#477 ASC NULLS FIRST, browser_family#531 ASC NULLS FIRST, 200), ENSURE_REQUIREMENTS, [plan_id=1464]\n",
      "         +- Exchange hashpartitioning(event_date#486, 10), REPARTITION_BY_NUM, [plan_id=1462]\n",
      "            +- Project [device_id#475, user_id#474, referrer#476, host#477, url#478, event_time#479, event_date#486, browser_type#513 AS browser_family#531, os_type#514 AS os_family#532, device_type#515]\n",
      "               +- BroadcastHashJoin [device_id#475], [device_id#512], LeftOuter, BuildRight, false\n",
      "                  :- Project [user_id#474, device_id#475, referrer#476, host#477, url#478, event_time#479, date_trunc(day, cast(event_time#479 as timestamp), Some(Etc/UTC)) AS event_date#486]\n",
      "                  :  +- FileScan csv [user_id#474,device_id#475,referrer#476,host#477,url#478,event_time#479] Batched: false, DataFilters: [], Format: CSV, Location: InMemoryFileIndex(1 paths)[file:/home/iceberg/data/events.csv], PartitionFilters: [], PushedFilters: [], ReadSchema: struct<user_id:string,device_id:string,referrer:string,host:string,url:string,event_time:string>\n",
      "                  +- BroadcastExchange HashedRelationBroadcastMode(List(input[0, string, false]),false), [plan_id=1459]\n",
      "                     +- Filter isnotnull(device_id#512)\n",
      "                        +- FileScan csv [device_id#512,browser_type#513,os_type#514,device_type#515] Batched: false, DataFilters: [isnotnull(device_id#512)], Format: CSV, Location: InMemoryFileIndex(1 paths)[file:/home/iceberg/data/devices.csv], PartitionFilters: [], PushedFilters: [IsNotNull(device_id)], ReadSchema: struct<device_id:string,browser_type:string,os_type:string,device_type:string>\n",
      "\n",
      "\n"
     ]
    }
   ],
   "source": [
    "sorted = (df.repartition(10, col(\"event_date\"))\n",
    "            .sortWithinPartitions(col(\"event_date\"), col(\"host\"), col(\"browser_family\"))\n",
    "            .withColumn(\"event_time\", col(\"event_time\").cast(\"timestamp\"))\n",
    "          )\n",
    "sorted.explain()\n",
    "\n",
    "sortedTwo = (df.repartition(10, col(\"event_date\"))\n",
    "            .sort(col(\"event_date\"), col(\"host\"), col(\"browser_family\"))\n",
    "            .withColumn(\"event_time\", col(\"event_time\").cast(\"timestamp\"))\n",
    "          )\n",
    "sortedTwo.explain()\n"
   ]
  },
  {
   "cell_type": "code",
   "execution_count": 23,
   "id": "660d9ad2-81cd-4657-b9ec-ab2f667bd11f",
   "metadata": {},
   "outputs": [
    {
     "data": {
      "text/html": [
       "<table>\n",
       "    <thead>\n",
       "        <tr>\n",
       "        </tr>\n",
       "    </thead>\n",
       "    <tbody>\n",
       "    </tbody>\n",
       "</table>"
      ],
      "text/plain": [
       "++\n",
       "||\n",
       "++\n",
       "++"
      ]
     },
     "execution_count": 23,
     "metadata": {},
     "output_type": "execute_result"
    }
   ],
   "source": [
    "%%sql\n",
    "CREATE DATABASE IF NOT EXISTS bootcamp\n"
   ]
  },
  {
   "cell_type": "code",
   "execution_count": 24,
   "id": "60d87a44-7e14-4dfd-9727-9e764d7e22a3",
   "metadata": {},
   "outputs": [
    {
     "data": {
      "text/html": [
       "<table>\n",
       "    <thead>\n",
       "        <tr>\n",
       "        </tr>\n",
       "    </thead>\n",
       "    <tbody>\n",
       "    </tbody>\n",
       "</table>"
      ],
      "text/plain": [
       "++\n",
       "||\n",
       "++\n",
       "++"
      ]
     },
     "execution_count": 24,
     "metadata": {},
     "output_type": "execute_result"
    }
   ],
   "source": [
    "%%sql\n",
    "DROP TABLE IF EXISTS bootcamp.events"
   ]
  },
  {
   "cell_type": "code",
   "execution_count": 26,
   "id": "8949f044-d7af-46df-aa5b-7c7c84d8d8b4",
   "metadata": {},
   "outputs": [
    {
     "data": {
      "text/html": [
       "<table>\n",
       "    <thead>\n",
       "        <tr>\n",
       "        </tr>\n",
       "    </thead>\n",
       "    <tbody>\n",
       "    </tbody>\n",
       "</table>"
      ],
      "text/plain": [
       "++\n",
       "||\n",
       "++\n",
       "++"
      ]
     },
     "execution_count": 26,
     "metadata": {},
     "output_type": "execute_result"
    }
   ],
   "source": [
    "%%sql\n",
    "CREATE TABLE IF NOT EXISTS bootcamp.events (\n",
    "    url STRING,\n",
    "    referrer STRING,\n",
    "    browser_family STRING,\n",
    "    os_family STRING,\n",
    "    host STRING,\n",
    "    event_time TIMESTAMP,\n",
    "    event_date DATE\n",
    ")\n",
    "USING ICEBERG\n",
    "PARTITIONED BY (years(event_date));"
   ]
  },
  {
   "cell_type": "code",
   "execution_count": 27,
   "id": "6b791d52-ce06-42e0-a1b2-9f4c8640fa13",
   "metadata": {},
   "outputs": [
    {
     "data": {
      "text/html": [
       "<table>\n",
       "    <thead>\n",
       "        <tr>\n",
       "        </tr>\n",
       "    </thead>\n",
       "    <tbody>\n",
       "    </tbody>\n",
       "</table>"
      ],
      "text/plain": [
       "++\n",
       "||\n",
       "++\n",
       "++"
      ]
     },
     "execution_count": 27,
     "metadata": {},
     "output_type": "execute_result"
    }
   ],
   "source": [
    "%%sql\n",
    "CREATE TABLE IF NOT EXISTS bootcamp.events_sorted (\n",
    "    url STRING,\n",
    "    referrer STRING,\n",
    "    browser_family STRING,\n",
    "    os_family STRING,\n",
    "    host STRING,\n",
    "    event_time TIMESTAMP,\n",
    "    event_date DATE\n",
    ")\n",
    "USING ICEBERG\n",
    "PARTITIONED BY (years(event_date));"
   ]
  },
  {
   "cell_type": "code",
   "execution_count": 30,
   "id": "f7a3072b-383f-4f16-915f-a56d34ef7ca7",
   "metadata": {},
   "outputs": [
    {
     "data": {
      "text/html": [
       "<table>\n",
       "    <thead>\n",
       "        <tr>\n",
       "        </tr>\n",
       "    </thead>\n",
       "    <tbody>\n",
       "    </tbody>\n",
       "</table>"
      ],
      "text/plain": [
       "++\n",
       "||\n",
       "++\n",
       "++"
      ]
     },
     "execution_count": 30,
     "metadata": {},
     "output_type": "execute_result"
    }
   ],
   "source": [
    "%%sql\n",
    "CREATE TABLE IF NOT EXISTS bootcamp.events_unsorted (\n",
    "    url STRING,\n",
    "    referrer STRING,\n",
    "    browser_family STRING,\n",
    "    os_family STRING,\n",
    "    host STRING,\n",
    "    event_time TIMESTAMP,\n",
    "    event_date DATE\n",
    ")\n",
    "USING ICEBERG\n",
    "PARTITIONED BY (years(event_date));"
   ]
  },
  {
   "cell_type": "code",
   "execution_count": 51,
   "id": "3bc841fc-f0c5-403d-9929-8968d0820083",
   "metadata": {},
   "outputs": [
    {
     "name": "stderr",
     "output_type": "stream",
     "text": [
      "                                                                                "
     ]
    }
   ],
   "source": [
    "start_df = (df.repartition(4, col(\"event_date\"))\n",
    "            .withColumn(\"event_time\", col(\"event_time\").cast(\"timestamp\"))  \n",
    "            )\n",
    "first_sort_df = start_df.sortWithinPartitions(col(\"event_date\"), col(\"browser_family\"), col(\"os_family\"))\n",
    "\n",
    "\n",
    "start_df.write.mode(\"overwrite\").saveAsTable(\"bootcamp.events_unsorted\")\n",
    "first_sort_df.write.mode(\"overwrite\").saveAsTable(\"bootcamp.events_sorted\")"
   ]
  },
  {
   "cell_type": "code",
   "execution_count": 45,
   "id": "14b6df02-e2ce-45dd-a19d-dad2a3c3ace4",
   "metadata": {},
   "outputs": [
    {
     "data": {
      "text/html": [
       "<table>\n",
       "    <thead>\n",
       "        <tr>\n",
       "            <th>device_id</th>\n",
       "            <th>user_id</th>\n",
       "            <th>referrer</th>\n",
       "            <th>host</th>\n",
       "            <th>url</th>\n",
       "            <th>event_time</th>\n",
       "            <th>event_date</th>\n",
       "            <th>browser_family</th>\n",
       "            <th>os_family</th>\n",
       "            <th>device_type</th>\n",
       "        </tr>\n",
       "    </thead>\n",
       "    <tbody>\n",
       "        <tr>\n",
       "            <td>532630305</td>\n",
       "            <td>747494706</td>\n",
       "            <td>None</td>\n",
       "            <td>www.zachwilson.tech</td>\n",
       "            <td>/</td>\n",
       "            <td>2021-09-26 16:03:17.535000</td>\n",
       "            <td>2021-09-26 00:00:00</td>\n",
       "            <td>Other</td>\n",
       "            <td>Other</td>\n",
       "            <td>Other</td>\n",
       "        </tr>\n",
       "        <tr>\n",
       "            <td>532630305</td>\n",
       "            <td>747494706</td>\n",
       "            <td>None</td>\n",
       "            <td>admin.zachwilson.tech</td>\n",
       "            <td>/</td>\n",
       "            <td>2021-02-21 16:08:17.975000</td>\n",
       "            <td>2021-02-21 00:00:00</td>\n",
       "            <td>Other</td>\n",
       "            <td>Other</td>\n",
       "            <td>Other</td>\n",
       "        </tr>\n",
       "        <tr>\n",
       "            <td>532630305</td>\n",
       "            <td>-824540328</td>\n",
       "            <td>None</td>\n",
       "            <td>admin.zachwilson.tech</td>\n",
       "            <td>/</td>\n",
       "            <td>2021-09-28 17:23:14.992000</td>\n",
       "            <td>2021-09-28 00:00:00</td>\n",
       "            <td>Other</td>\n",
       "            <td>Other</td>\n",
       "            <td>Other</td>\n",
       "        </tr>\n",
       "        <tr>\n",
       "            <td>-733097781</td>\n",
       "            <td>5890109</td>\n",
       "            <td>None</td>\n",
       "            <td>www.zachwilson.tech</td>\n",
       "            <td>/</td>\n",
       "            <td>2023-01-09 11:55:28.032000</td>\n",
       "            <td>2023-01-09 00:00:00</td>\n",
       "            <td>curl</td>\n",
       "            <td>Other</td>\n",
       "            <td>Other</td>\n",
       "        </tr>\n",
       "        <tr>\n",
       "            <td>532630305</td>\n",
       "            <td>-707954698</td>\n",
       "            <td>None</td>\n",
       "            <td>admin.zachwilson.tech</td>\n",
       "            <td>/</td>\n",
       "            <td>2021-06-19 05:55:00.559000</td>\n",
       "            <td>2021-06-19 00:00:00</td>\n",
       "            <td>Other</td>\n",
       "            <td>Other</td>\n",
       "            <td>Other</td>\n",
       "        </tr>\n",
       "        <tr>\n",
       "            <td>532630305</td>\n",
       "            <td>747494706</td>\n",
       "            <td>None</td>\n",
       "            <td>admin.zachwilson.tech</td>\n",
       "            <td>/</td>\n",
       "            <td>2021-06-19 15:09:19.519000</td>\n",
       "            <td>2021-06-19 00:00:00</td>\n",
       "            <td>Other</td>\n",
       "            <td>Other</td>\n",
       "            <td>Other</td>\n",
       "        </tr>\n",
       "        <tr>\n",
       "            <td>-733097781</td>\n",
       "            <td>5890109</td>\n",
       "            <td>None</td>\n",
       "            <td>www.zachwilson.tech</td>\n",
       "            <td>/</td>\n",
       "            <td>2023-01-09 20:10:27.610000</td>\n",
       "            <td>2023-01-09 00:00:00</td>\n",
       "            <td>curl</td>\n",
       "            <td>Other</td>\n",
       "            <td>Other</td>\n",
       "        </tr>\n",
       "        <tr>\n",
       "            <td>532630305</td>\n",
       "            <td>696863716</td>\n",
       "            <td>None</td>\n",
       "            <td>admin.zachwilson.tech</td>\n",
       "            <td>/</td>\n",
       "            <td>2023-01-10 04:43:49.204000</td>\n",
       "            <td>2023-01-10 00:00:00</td>\n",
       "            <td>Other</td>\n",
       "            <td>Other</td>\n",
       "            <td>Other</td>\n",
       "        </tr>\n",
       "        <tr>\n",
       "            <td>532630305</td>\n",
       "            <td>-1180485268</td>\n",
       "            <td>None</td>\n",
       "            <td>www.eczachly.com</td>\n",
       "            <td>/</td>\n",
       "            <td>2021-06-28 16:51:11.679000</td>\n",
       "            <td>2021-06-28 00:00:00</td>\n",
       "            <td>Other</td>\n",
       "            <td>Other</td>\n",
       "            <td>Other</td>\n",
       "        </tr>\n",
       "        <tr>\n",
       "            <td>532630305</td>\n",
       "            <td>-1180485268</td>\n",
       "            <td>None</td>\n",
       "            <td>www.zachwilson.tech</td>\n",
       "            <td>/</td>\n",
       "            <td>2021-06-28 17:34:44.423000</td>\n",
       "            <td>2021-06-28 00:00:00</td>\n",
       "            <td>Other</td>\n",
       "            <td>Other</td>\n",
       "            <td>Other</td>\n",
       "        </tr>\n",
       "    </tbody>\n",
       "</table>"
      ],
      "text/plain": [
       "+------------+-------------+----------+-----------------------+-----+----------------------------+---------------------+----------------+-----------+-------------+\n",
       "|  device_id |     user_id | referrer |                  host | url |                 event_time |          event_date | browser_family | os_family | device_type |\n",
       "+------------+-------------+----------+-----------------------+-----+----------------------------+---------------------+----------------+-----------+-------------+\n",
       "|  532630305 |   747494706 |     None |   www.zachwilson.tech |   / | 2021-09-26 16:03:17.535000 | 2021-09-26 00:00:00 |          Other |     Other |       Other |\n",
       "|  532630305 |   747494706 |     None | admin.zachwilson.tech |   / | 2021-02-21 16:08:17.975000 | 2021-02-21 00:00:00 |          Other |     Other |       Other |\n",
       "|  532630305 |  -824540328 |     None | admin.zachwilson.tech |   / | 2021-09-28 17:23:14.992000 | 2021-09-28 00:00:00 |          Other |     Other |       Other |\n",
       "| -733097781 |     5890109 |     None |   www.zachwilson.tech |   / | 2023-01-09 11:55:28.032000 | 2023-01-09 00:00:00 |           curl |     Other |       Other |\n",
       "|  532630305 |  -707954698 |     None | admin.zachwilson.tech |   / | 2021-06-19 05:55:00.559000 | 2021-06-19 00:00:00 |          Other |     Other |       Other |\n",
       "|  532630305 |   747494706 |     None | admin.zachwilson.tech |   / | 2021-06-19 15:09:19.519000 | 2021-06-19 00:00:00 |          Other |     Other |       Other |\n",
       "| -733097781 |     5890109 |     None |   www.zachwilson.tech |   / | 2023-01-09 20:10:27.610000 | 2023-01-09 00:00:00 |           curl |     Other |       Other |\n",
       "|  532630305 |   696863716 |     None | admin.zachwilson.tech |   / | 2023-01-10 04:43:49.204000 | 2023-01-10 00:00:00 |          Other |     Other |       Other |\n",
       "|  532630305 | -1180485268 |     None |      www.eczachly.com |   / | 2021-06-28 16:51:11.679000 | 2021-06-28 00:00:00 |          Other |     Other |       Other |\n",
       "|  532630305 | -1180485268 |     None |   www.zachwilson.tech |   / | 2021-06-28 17:34:44.423000 | 2021-06-28 00:00:00 |          Other |     Other |       Other |\n",
       "+------------+-------------+----------+-----------------------+-----+----------------------------+---------------------+----------------+-----------+-------------+"
      ]
     },
     "execution_count": 45,
     "metadata": {},
     "output_type": "execute_result"
    }
   ],
   "source": [
    "%%sql\n",
    "select * from bootcamp.events_unsorted limit 10;"
   ]
  },
  {
   "cell_type": "code",
   "execution_count": 37,
   "id": "0e5028c7-f241-4ed1-80c8-46108d14ede9",
   "metadata": {},
   "outputs": [
    {
     "data": {
      "text/html": [
       "<table>\n",
       "    <thead>\n",
       "        <tr>\n",
       "            <th>content</th>\n",
       "            <th>file_path</th>\n",
       "            <th>file_format</th>\n",
       "            <th>spec_id</th>\n",
       "            <th>partition</th>\n",
       "            <th>record_count</th>\n",
       "            <th>file_size_in_bytes</th>\n",
       "            <th>column_sizes</th>\n",
       "            <th>value_counts</th>\n",
       "            <th>null_value_counts</th>\n",
       "            <th>nan_value_counts</th>\n",
       "            <th>lower_bounds</th>\n",
       "            <th>upper_bounds</th>\n",
       "            <th>key_metadata</th>\n",
       "            <th>split_offsets</th>\n",
       "            <th>equality_ids</th>\n",
       "            <th>sort_order_id</th>\n",
       "            <th>referenced_data_file</th>\n",
       "            <th>content_offset</th>\n",
       "            <th>content_size_in_bytes</th>\n",
       "            <th>readable_metrics</th>\n",
       "        </tr>\n",
       "    </thead>\n",
       "    <tbody>\n",
       "        <tr>\n",
       "            <td>0</td>\n",
       "            <td>s3://warehouse/bootcamp/events_sorted/data/00000-133-6fe482e3-7684-4d8d-92e5-c51f0046db1c-0-00001.parquet</td>\n",
       "            <td>PARQUET</td>\n",
       "            <td>1</td>\n",
       "            <td>Row(event_date_year=None)</td>\n",
       "            <td>89391</td>\n",
       "            <td>1032260</td>\n",
       "            <td>{1: 107466, 2: 61022, 3: 11455, 4: 12926, 5: 7383, 6: 426449, 7: 2293, 8: 77425, 9: 310063, 10: 10711}</td>\n",
       "            <td>{1: 89391, 2: 89391, 3: 89391, 4: 89391, 5: 89391, 6: 89391, 7: 89391, 8: 89391, 9: 89391, 10: 89391}</td>\n",
       "            <td>{1: 0, 2: 46359, 3: 0, 4: 0, 5: 0, 6: 0, 7: 0, 8: 0, 9: 1, 10: 0}</td>\n",
       "            <td>{}</td>\n",
       "            <td>{1: bytearray(b&#x27;/&#x27;), 2: bytearray(b&#x27;52.20.78.240&#x27;), 3: bytearray(b&#x27;%E3%82%A6%E3%82%&#x27;), 4: bytearray(b&#x27;Android&#x27;), 5: bytearray(b&#x27;aashish.techcrea&#x27;), 6: bytearray(b&#x27; \\xba\\xe7\\xb8\\xa8\\xb8\\x05\\x00&#x27;), 7: bytearray(b&#x27;\\x00\\xa0&amp;\\xb4\\xa8\\xb8\\x05\\x00&#x27;), 8: bytearray(b&#x27;-100210680&#x27;), 9: bytearray(b&#x27;-1000095488&#x27;), 10: bytearray(b&#x27;17MB150WB&#x27;)}</td>\n",
       "            <td>{1: bytearray(b&#x27;/zzageqnf.php?Fp&#x27;), 2: bytearray(b&#x27;zachwilson.tech&#x27;), 3: bytearray(b&#x27;webprosbot&#x27;), 4: bytearray(b&#x27;iOS&#x27;), 5: bytearray(b&#x27;zachwilson.techd&#x27;), 6: bytearray(b&#x27;\\xe8\\xb0\\x1b\\x8ec\\x03\\x06\\x00&#x27;), 7: bytearray(b&#x27;\\x00\\xe0dqO\\x03\\x06\\x00&#x27;), 8: bytearray(b&#x27;999535123&#x27;), 9: bytearray(b&#x27;999884938&#x27;), 10: bytearray(b&#x27;vivo $2&#x27;)}</td>\n",
       "            <td>None</td>\n",
       "            <td>[4]</td>\n",
       "            <td>None</td>\n",
       "            <td>0</td>\n",
       "            <td>None</td>\n",
       "            <td>None</td>\n",
       "            <td>None</td>\n",
       "            <td>Row(browser_family=Row(column_size=11455, value_count=89391, null_value_count=0, nan_value_count=None, lower_bound=&#x27;%E3%82%A6%E3%82%&#x27;, upper_bound=&#x27;webprosbot&#x27;), device_id=Row(column_size=77425, value_count=89391, null_value_count=0, nan_value_count=None, lower_bound=&#x27;-100210680&#x27;, upper_bound=&#x27;999535123&#x27;), device_type=Row(column_size=10711, value_count=89391, null_value_count=0, nan_value_count=None, lower_bound=&#x27;17MB150WB&#x27;, upper_bound=&#x27;vivo $2&#x27;), event_date=Row(column_size=2293, value_count=89391, null_value_count=0, nan_value_count=None, lower_bound=datetime.datetime(2021, 1, 12, 0, 0), upper_bound=datetime.datetime(2023, 8, 20, 0, 0)), event_time=Row(column_size=426449, value_count=89391, null_value_count=0, nan_value_count=None, lower_bound=datetime.datetime(2021, 1, 12, 0, 1, 19, 764000), upper_bound=datetime.datetime(2023, 8, 20, 23, 59, 41, 89000)), host=Row(column_size=7383, value_count=89391, null_value_count=0, nan_value_count=None, lower_bound=&#x27;aashish.techcrea&#x27;, upper_bound=&#x27;zachwilson.techd&#x27;), os_family=Row(column_size=12926, value_count=89391, null_value_count=0, nan_value_count=None, lower_bound=&#x27;Android&#x27;, upper_bound=&#x27;iOS&#x27;), referrer=Row(column_size=61022, value_count=89391, null_value_count=46359, nan_value_count=None, lower_bound=&#x27;52.20.78.240&#x27;, upper_bound=&#x27;zachwilson.tech&#x27;), url=Row(column_size=107466, value_count=89391, null_value_count=0, nan_value_count=None, lower_bound=&#x27;/&#x27;, upper_bound=&#x27;/zzageqnf.php?Fp&#x27;), user_id=Row(column_size=310063, value_count=89391, null_value_count=1, nan_value_count=None, lower_bound=&#x27;-1000095488&#x27;, upper_bound=&#x27;999884938&#x27;))</td>\n",
       "        </tr>\n",
       "        <tr>\n",
       "            <td>0</td>\n",
       "            <td>s3://warehouse/bootcamp/events_sorted/data/00001-134-6fe482e3-7684-4d8d-92e5-c51f0046db1c-0-00001.parquet</td>\n",
       "            <td>PARQUET</td>\n",
       "            <td>1</td>\n",
       "            <td>Row(event_date_year=None)</td>\n",
       "            <td>99232</td>\n",
       "            <td>1165545</td>\n",
       "            <td>{1: 142178, 2: 67363, 3: 11914, 4: 16543, 5: 9119, 6: 475862, 7: 2373, 8: 86514, 9: 337013, 10: 11522}</td>\n",
       "            <td>{1: 99232, 2: 99232, 3: 99232, 4: 99232, 5: 99232, 6: 99232, 7: 99232, 8: 99232, 9: 99232, 10: 99232}</td>\n",
       "            <td>{1: 0, 2: 49299, 3: 0, 4: 0, 5: 0, 6: 0, 7: 0, 8: 0, 9: 58, 10: 0}</td>\n",
       "            <td>{}</td>\n",
       "            <td>{1: bytearray(b&#x27;&quot;/?&quot;&quot;&lt;?=print(93&#x27;), 2: bytearray(b&#x27;&quot;https://www.goo&#x27;), 3: bytearray(b&#x27;) Bot&#x27;), 4: bytearray(b&#x27;Android&#x27;), 5: bytearray(b&#x27;abhishekanand.te&#x27;), 6: bytearray(b&#x27;(\\x83\\xb2EX\\xb8\\x05\\x00&#x27;), 7: bytearray(b&#x27;\\x00 \\xc9&lt;X\\xb8\\x05\\x00&#x27;), 8: bytearray(b&#x27;-100210680&#x27;), 9: bytearray(b&#x27;-1000370060&#x27;), 10: bytearray(b&#x27;13 Pro Max&#x27;)}</td>\n",
       "            <td>{1: bytearray(b&#x27;/zz.php&#x27;), 2: bytearray(b&#x27;zachwilson.tech&#x27;), 3: bytearray(b&#x27;webprosbot&#x27;), 4: bytearray(b&#x27;iOS&#x27;), 5: bytearray(b&#x27;zsavi524.techcrf&#x27;), 6: bytearray(b&#x27;\\x88\\xb8\\x07P;\\x03\\x06\\x00&#x27;), 7: bytearray(b&quot;\\x00 \\xb65\\&#x27;\\x03\\x06\\x00&quot;), 8: bytearray(b&#x27;999535123&#x27;), 9: bytearray(b&#x27;999956796&#x27;), 10: bytearray(b&#x27;vivo $2&#x27;)}</td>\n",
       "            <td>None</td>\n",
       "            <td>[4]</td>\n",
       "            <td>None</td>\n",
       "            <td>0</td>\n",
       "            <td>None</td>\n",
       "            <td>None</td>\n",
       "            <td>None</td>\n",
       "            <td>Row(browser_family=Row(column_size=11914, value_count=99232, null_value_count=0, nan_value_count=None, lower_bound=&#x27;) Bot&#x27;, upper_bound=&#x27;webprosbot&#x27;), device_id=Row(column_size=86514, value_count=99232, null_value_count=0, nan_value_count=None, lower_bound=&#x27;-100210680&#x27;, upper_bound=&#x27;999535123&#x27;), device_type=Row(column_size=11522, value_count=99232, null_value_count=0, nan_value_count=None, lower_bound=&#x27;13 Pro Max&#x27;, upper_bound=&#x27;vivo $2&#x27;), event_date=Row(column_size=2373, value_count=99232, null_value_count=0, nan_value_count=None, lower_bound=datetime.datetime(2021, 1, 8, 0, 0), upper_bound=datetime.datetime(2023, 8, 18, 0, 0)), event_time=Row(column_size=475862, value_count=99232, null_value_count=0, nan_value_count=None, lower_bound=datetime.datetime(2021, 1, 8, 0, 2, 29, 513000), upper_bound=datetime.datetime(2023, 8, 18, 23, 59, 0, 901000)), host=Row(column_size=9119, value_count=99232, null_value_count=0, nan_value_count=None, lower_bound=&#x27;abhishekanand.te&#x27;, upper_bound=&#x27;zsavi524.techcrf&#x27;), os_family=Row(column_size=16543, value_count=99232, null_value_count=0, nan_value_count=None, lower_bound=&#x27;Android&#x27;, upper_bound=&#x27;iOS&#x27;), referrer=Row(column_size=67363, value_count=99232, null_value_count=49299, nan_value_count=None, lower_bound=&#x27;&quot;https://www.goo&#x27;, upper_bound=&#x27;zachwilson.tech&#x27;), url=Row(column_size=142178, value_count=99232, null_value_count=0, nan_value_count=None, lower_bound=&#x27;&quot;/?&quot;&quot;&lt;?=print(93&#x27;, upper_bound=&#x27;/zz.php&#x27;), user_id=Row(column_size=337013, value_count=99232, null_value_count=58, nan_value_count=None, lower_bound=&#x27;-1000370060&#x27;, upper_bound=&#x27;999956796&#x27;))</td>\n",
       "        </tr>\n",
       "        <tr>\n",
       "            <td>0</td>\n",
       "            <td>s3://warehouse/bootcamp/events_sorted/data/00002-135-6fe482e3-7684-4d8d-92e5-c51f0046db1c-0-00001.parquet</td>\n",
       "            <td>PARQUET</td>\n",
       "            <td>1</td>\n",
       "            <td>Row(event_date_year=None)</td>\n",
       "            <td>93956</td>\n",
       "            <td>1354863</td>\n",
       "            <td>{1: 345976, 2: 86611, 3: 10966, 4: 12894, 5: 8590, 6: 447243, 7: 2037, 8: 86885, 9: 336434, 10: 12138}</td>\n",
       "            <td>{1: 93956, 2: 93956, 3: 93956, 4: 93956, 5: 93956, 6: 93956, 7: 93956, 8: 93956, 9: 93956, 10: 93956}</td>\n",
       "            <td>{1: 0, 2: 48227, 3: 1, 4: 1, 5: 0, 6: 0, 7: 0, 8: 0, 9: 0, 10: 1}</td>\n",
       "            <td>{}</td>\n",
       "            <td>{1: bytearray(b&#x27;&quot;/?&quot;&quot;&lt;?=print(93&#x27;), 2: bytearray(b&#x27;&quot;https://www.goo&#x27;), 3: bytearray(b&#x27;) Bot&#x27;), 4: bytearray(b&#x27;Android&#x27;), 5: bytearray(b&#x27;ablumhardt.techc&#x27;), 6: bytearray(b&#x27;\\x18\\xe8_\\xb2\\xf3\\xb7\\x05\\x00&#x27;), 7: bytearray(b&#x27;\\x00@\\x94\\xa7\\xf3\\xb7\\x05\\x00&#x27;), 8: bytearray(b&#x27;-1000866068&#x27;), 9: bytearray(b&#x27;-1000675882&#x27;), 10: bytearray(b&#x27;ALP-AL00&#x27;)}</td>\n",
       "            <td>{1: bytearray(b&#x27;/zz/address.php@&#x27;), 2: bytearray(b&#x27;zachwilson.tech&#x27;), 3: bytearray(b&#x27;webprosbot&#x27;), 4: bytearray(b&#x27;webOS&#x27;), 5: bytearray(b&#x27;zzz.techcreator/&#x27;), 6: bytearray(b&#x27;HE\\xdbM\\xb3\\x03\\x06\\x00&#x27;), 7: bytearray(b&#x27;\\x00`\\xc2\\xe8\\x9f\\x03\\x06\\x00&#x27;), 8: bytearray(b&#x27;998961543&#x27;), 9: bytearray(b&#x27;999956796&#x27;), 10: bytearray(b&#x27;vivo $2&#x27;)}</td>\n",
       "            <td>None</td>\n",
       "            <td>[4]</td>\n",
       "            <td>None</td>\n",
       "            <td>0</td>\n",
       "            <td>None</td>\n",
       "            <td>None</td>\n",
       "            <td>None</td>\n",
       "            <td>Row(browser_family=Row(column_size=10966, value_count=93956, null_value_count=1, nan_value_count=None, lower_bound=&#x27;) Bot&#x27;, upper_bound=&#x27;webprosbot&#x27;), device_id=Row(column_size=86885, value_count=93956, null_value_count=0, nan_value_count=None, lower_bound=&#x27;-1000866068&#x27;, upper_bound=&#x27;998961543&#x27;), device_type=Row(column_size=12138, value_count=93956, null_value_count=1, nan_value_count=None, lower_bound=&#x27;ALP-AL00&#x27;, upper_bound=&#x27;vivo $2&#x27;), event_date=Row(column_size=2037, value_count=93956, null_value_count=0, nan_value_count=None, lower_bound=datetime.datetime(2021, 1, 3, 0, 0), upper_bound=datetime.datetime(2023, 8, 24, 0, 0)), event_time=Row(column_size=447243, value_count=93956, null_value_count=0, nan_value_count=None, lower_bound=datetime.datetime(2021, 1, 3, 0, 3, 1, 119000), upper_bound=datetime.datetime(2023, 8, 24, 23, 8, 20, 509000)), host=Row(column_size=8590, value_count=93956, null_value_count=0, nan_value_count=None, lower_bound=&#x27;ablumhardt.techc&#x27;, upper_bound=&#x27;zzz.techcreator/&#x27;), os_family=Row(column_size=12894, value_count=93956, null_value_count=1, nan_value_count=None, lower_bound=&#x27;Android&#x27;, upper_bound=&#x27;webOS&#x27;), referrer=Row(column_size=86611, value_count=93956, null_value_count=48227, nan_value_count=None, lower_bound=&#x27;&quot;https://www.goo&#x27;, upper_bound=&#x27;zachwilson.tech&#x27;), url=Row(column_size=345976, value_count=93956, null_value_count=0, nan_value_count=None, lower_bound=&#x27;&quot;/?&quot;&quot;&lt;?=print(93&#x27;, upper_bound=&#x27;/zz/address.php@&#x27;), user_id=Row(column_size=336434, value_count=93956, null_value_count=0, nan_value_count=None, lower_bound=&#x27;-1000675882&#x27;, upper_bound=&#x27;999956796&#x27;))</td>\n",
       "        </tr>\n",
       "        <tr>\n",
       "            <td>0</td>\n",
       "            <td>s3://warehouse/bootcamp/events_sorted/data/00003-136-6fe482e3-7684-4d8d-92e5-c51f0046db1c-0-00001.parquet</td>\n",
       "            <td>PARQUET</td>\n",
       "            <td>1</td>\n",
       "            <td>Row(event_date_year=None)</td>\n",
       "            <td>122235</td>\n",
       "            <td>1542438</td>\n",
       "            <td>{1: 284361, 2: 87456, 3: 11525, 4: 16894, 5: 9348, 6: 558677, 7: 2178, 8: 110135, 9: 442488, 10: 13563}</td>\n",
       "            <td>{1: 122235, 2: 122235, 3: 122235, 4: 122235, 5: 122235, 6: 122235, 7: 122235, 8: 122235, 9: 122235, 10: 122235}</td>\n",
       "            <td>{1: 0, 2: 53009, 3: 0, 4: 0, 5: 0, 6: 0, 7: 0, 8: 0, 9: 8, 10: 0}</td>\n",
       "            <td>{}</td>\n",
       "            <td>{1: bytearray(b&#x27;/&#x27;), 2: bytearray(b&#x27;3.220.57.224&#x27;), 3: bytearray(b&#x27;) Bot&#x27;), 4: bytearray(b&#x27;Android&#x27;), 5: bytearray(b&#x27;accc.techcreator&#x27;), 6: bytearray(b&#x27;@n.\\xbd\\xdf\\xb7\\x05\\x00&#x27;), 7: bytearray(b&#x27;\\x00\\xe0\\xbc\\x89\\xdf\\xb7\\x05\\x00&#x27;), 8: bytearray(b&#x27;-1001669954&#x27;), 9: bytearray(b&#x27;-1000015881&#x27;), 10: bytearray(b&#x27;$2&#x27;)}</td>\n",
       "            <td>{1: bytearray(b&#x27;/zz.php&#x27;), 2: bytearray(b&#x27;zachwilson.tech&#x27;), 3: bytearray(b&#x27;webprosbot&#x27;), 4: bytearray(b&#x27;iOS&#x27;), 5: bytearray(b&#x27;zachwilson.techd&#x27;), 6: bytearray(b&#x27;\\xd8\\xaf\\x9a\\xe8\\x9f\\x03\\x06\\x00&#x27;), 7: bytearray(b&#x27;\\x00\\x00\\xeb\\xca\\x8b\\x03\\x06\\x00&#x27;), 8: bytearray(b&#x27;998766634&#x27;), 9: bytearray(b&#x27;999882344&#x27;), 10: bytearray(b&#x27;vivo $2&#x27;)}</td>\n",
       "            <td>None</td>\n",
       "            <td>[4]</td>\n",
       "            <td>None</td>\n",
       "            <td>0</td>\n",
       "            <td>None</td>\n",
       "            <td>None</td>\n",
       "            <td>None</td>\n",
       "            <td>Row(browser_family=Row(column_size=11525, value_count=122235, null_value_count=0, nan_value_count=None, lower_bound=&#x27;) Bot&#x27;, upper_bound=&#x27;webprosbot&#x27;), device_id=Row(column_size=110135, value_count=122235, null_value_count=0, nan_value_count=None, lower_bound=&#x27;-1001669954&#x27;, upper_bound=&#x27;998766634&#x27;), device_type=Row(column_size=13563, value_count=122235, null_value_count=0, nan_value_count=None, lower_bound=&#x27;$2&#x27;, upper_bound=&#x27;vivo $2&#x27;), event_date=Row(column_size=2178, value_count=122235, null_value_count=0, nan_value_count=None, lower_bound=datetime.datetime(2021, 1, 2, 0, 0), upper_bound=datetime.datetime(2023, 8, 23, 0, 0)), event_time=Row(column_size=558677, value_count=122235, null_value_count=0, nan_value_count=None, lower_bound=datetime.datetime(2021, 1, 2, 0, 14, 23, 80000), upper_bound=datetime.datetime(2023, 8, 23, 23, 59, 57, 399000)), host=Row(column_size=9348, value_count=122235, null_value_count=0, nan_value_count=None, lower_bound=&#x27;accc.techcreator&#x27;, upper_bound=&#x27;zachwilson.techd&#x27;), os_family=Row(column_size=16894, value_count=122235, null_value_count=0, nan_value_count=None, lower_bound=&#x27;Android&#x27;, upper_bound=&#x27;iOS&#x27;), referrer=Row(column_size=87456, value_count=122235, null_value_count=53009, nan_value_count=None, lower_bound=&#x27;3.220.57.224&#x27;, upper_bound=&#x27;zachwilson.tech&#x27;), url=Row(column_size=284361, value_count=122235, null_value_count=0, nan_value_count=None, lower_bound=&#x27;/&#x27;, upper_bound=&#x27;/zz.php&#x27;), user_id=Row(column_size=442488, value_count=122235, null_value_count=8, nan_value_count=None, lower_bound=&#x27;-1000015881&#x27;, upper_bound=&#x27;999882344&#x27;))</td>\n",
       "        </tr>\n",
       "    </tbody>\n",
       "</table>"
      ],
      "text/plain": [
       "+---------+-----------------------------------------------------------------------------------------------------------+-------------+---------+---------------------------+--------------+--------------------+---------------------------------------------------------------------------------------------------------+-----------------------------------------------------------------------------------------------------------------+--------------------------------------------------------------------+------------------+-----------------------------------------------------------------------------------------------------------------------------------------------------------------------------------------------------------------------------------------------------------------------------------------------------------------------------------------------------+---------------------------------------------------------------------------------------------------------------------------------------------------------------------------------------------------------------------------------------------------------------------------------------------------------------------------------------------+--------------+---------------+--------------+---------------+----------------------+----------------+-----------------------+--------------------------------------------------------------------------------------------------------------------------------------------------------------------------------------------------------------------------------------------------------------------------------------------------------------------------------------------------------------------------------------------------------------------------------------------------------------------------------------------------------------------------------------------------------------------------------------------------------------------------------------------------------------------------------------------------------------------------------------------------------------------------------------------------------------------------------------------------------------------------------------------------------------------------------------------------------------------------------------------------------------------------------------------------------------------------------------------------------------------------------------------------------------------------------------------------------------------------------------------------------------------------------------------------------------------------------------------------------------------------------------------------------------------------------------------------------------------------------------------------------------------------------------------------------------------------------------------------------------------------------------------------------------------------+\n",
       "| content |                                                                                                 file_path | file_format | spec_id |                 partition | record_count | file_size_in_bytes |                                                                                            column_sizes |                                                                                                    value_counts |                                                  null_value_counts | nan_value_counts |                                                                                                                                                                                                                                                                                                                                        lower_bounds |                                                                                                                                                                                                                                                                                                                                upper_bounds | key_metadata | split_offsets | equality_ids | sort_order_id | referenced_data_file | content_offset | content_size_in_bytes |                                                                                                                                                                                                                                                                                                                                                                                                                                                                                                                                                                                                                                                                                                                                                                                                                                                                                                                                                                                                                                                                                                                                                                                                                                                                                                                                                                                                                                                                                                                                                                                                                                                         readable_metrics |\n",
       "+---------+-----------------------------------------------------------------------------------------------------------+-------------+---------+---------------------------+--------------+--------------------+---------------------------------------------------------------------------------------------------------+-----------------------------------------------------------------------------------------------------------------+--------------------------------------------------------------------+------------------+-----------------------------------------------------------------------------------------------------------------------------------------------------------------------------------------------------------------------------------------------------------------------------------------------------------------------------------------------------+---------------------------------------------------------------------------------------------------------------------------------------------------------------------------------------------------------------------------------------------------------------------------------------------------------------------------------------------+--------------+---------------+--------------+---------------+----------------------+----------------+-----------------------+--------------------------------------------------------------------------------------------------------------------------------------------------------------------------------------------------------------------------------------------------------------------------------------------------------------------------------------------------------------------------------------------------------------------------------------------------------------------------------------------------------------------------------------------------------------------------------------------------------------------------------------------------------------------------------------------------------------------------------------------------------------------------------------------------------------------------------------------------------------------------------------------------------------------------------------------------------------------------------------------------------------------------------------------------------------------------------------------------------------------------------------------------------------------------------------------------------------------------------------------------------------------------------------------------------------------------------------------------------------------------------------------------------------------------------------------------------------------------------------------------------------------------------------------------------------------------------------------------------------------------------------------------------------------------+\n",
       "|       0 | s3://warehouse/bootcamp/events_sorted/data/00000-133-6fe482e3-7684-4d8d-92e5-c51f0046db1c-0-00001.parquet |     PARQUET |       1 | Row(event_date_year=None) |        89391 |            1032260 |  {1: 107466, 2: 61022, 3: 11455, 4: 12926, 5: 7383, 6: 426449, 7: 2293, 8: 77425, 9: 310063, 10: 10711} |           {1: 89391, 2: 89391, 3: 89391, 4: 89391, 5: 89391, 6: 89391, 7: 89391, 8: 89391, 9: 89391, 10: 89391} |  {1: 0, 2: 46359, 3: 0, 4: 0, 5: 0, 6: 0, 7: 0, 8: 0, 9: 1, 10: 0} |               {} |         {1: bytearray(b'/'), 2: bytearray(b'52.20.78.240'), 3: bytearray(b'%E3%82%A6%E3%82%'), 4: bytearray(b'Android'), 5: bytearray(b'aashish.techcrea'), 6: bytearray(b' \\xba\\xe7\\xb8\\xa8\\xb8\\x05\\x00'), 7: bytearray(b'\\x00\\xa0&\\xb4\\xa8\\xb8\\x05\\x00'), 8: bytearray(b'-100210680'), 9: bytearray(b'-1000095488'), 10: bytearray(b'17MB150WB')} |    {1: bytearray(b'/zzageqnf.php?Fp'), 2: bytearray(b'zachwilson.tech'), 3: bytearray(b'webprosbot'), 4: bytearray(b'iOS'), 5: bytearray(b'zachwilson.techd'), 6: bytearray(b'\\xe8\\xb0\\x1b\\x8ec\\x03\\x06\\x00'), 7: bytearray(b'\\x00\\xe0dqO\\x03\\x06\\x00'), 8: bytearray(b'999535123'), 9: bytearray(b'999884938'), 10: bytearray(b'vivo $2')} |         None |           [4] |         None |             0 |                 None |           None |                  None |        Row(browser_family=Row(column_size=11455, value_count=89391, null_value_count=0, nan_value_count=None, lower_bound='%E3%82%A6%E3%82%', upper_bound='webprosbot'), device_id=Row(column_size=77425, value_count=89391, null_value_count=0, nan_value_count=None, lower_bound='-100210680', upper_bound='999535123'), device_type=Row(column_size=10711, value_count=89391, null_value_count=0, nan_value_count=None, lower_bound='17MB150WB', upper_bound='vivo $2'), event_date=Row(column_size=2293, value_count=89391, null_value_count=0, nan_value_count=None, lower_bound=datetime.datetime(2021, 1, 12, 0, 0), upper_bound=datetime.datetime(2023, 8, 20, 0, 0)), event_time=Row(column_size=426449, value_count=89391, null_value_count=0, nan_value_count=None, lower_bound=datetime.datetime(2021, 1, 12, 0, 1, 19, 764000), upper_bound=datetime.datetime(2023, 8, 20, 23, 59, 41, 89000)), host=Row(column_size=7383, value_count=89391, null_value_count=0, nan_value_count=None, lower_bound='aashish.techcrea', upper_bound='zachwilson.techd'), os_family=Row(column_size=12926, value_count=89391, null_value_count=0, nan_value_count=None, lower_bound='Android', upper_bound='iOS'), referrer=Row(column_size=61022, value_count=89391, null_value_count=46359, nan_value_count=None, lower_bound='52.20.78.240', upper_bound='zachwilson.tech'), url=Row(column_size=107466, value_count=89391, null_value_count=0, nan_value_count=None, lower_bound='/', upper_bound='/zzageqnf.php?Fp'), user_id=Row(column_size=310063, value_count=89391, null_value_count=1, nan_value_count=None, lower_bound='-1000095488', upper_bound='999884938')) |\n",
       "|       0 | s3://warehouse/bootcamp/events_sorted/data/00001-134-6fe482e3-7684-4d8d-92e5-c51f0046db1c-0-00001.parquet |     PARQUET |       1 | Row(event_date_year=None) |        99232 |            1165545 |  {1: 142178, 2: 67363, 3: 11914, 4: 16543, 5: 9119, 6: 475862, 7: 2373, 8: 86514, 9: 337013, 10: 11522} |           {1: 99232, 2: 99232, 3: 99232, 4: 99232, 5: 99232, 6: 99232, 7: 99232, 8: 99232, 9: 99232, 10: 99232} | {1: 0, 2: 49299, 3: 0, 4: 0, 5: 0, 6: 0, 7: 0, 8: 0, 9: 58, 10: 0} |               {} |            {1: bytearray(b'\"/?\"\"<?=print(93'), 2: bytearray(b'\"https://www.goo'), 3: bytearray(b') Bot'), 4: bytearray(b'Android'), 5: bytearray(b'abhishekanand.te'), 6: bytearray(b'(\\x83\\xb2EX\\xb8\\x05\\x00'), 7: bytearray(b'\\x00 \\xc9<X\\xb8\\x05\\x00'), 8: bytearray(b'-100210680'), 9: bytearray(b'-1000370060'), 10: bytearray(b'13 Pro Max')} |               {1: bytearray(b'/zz.php'), 2: bytearray(b'zachwilson.tech'), 3: bytearray(b'webprosbot'), 4: bytearray(b'iOS'), 5: bytearray(b'zsavi524.techcrf'), 6: bytearray(b'\\x88\\xb8\\x07P;\\x03\\x06\\x00'), 7: bytearray(b\"\\x00 \\xb65\\'\\x03\\x06\\x00\"), 8: bytearray(b'999535123'), 9: bytearray(b'999956796'), 10: bytearray(b'vivo $2')} |         None |           [4] |         None |             0 |                 None |           None |                  None |         Row(browser_family=Row(column_size=11914, value_count=99232, null_value_count=0, nan_value_count=None, lower_bound=') Bot', upper_bound='webprosbot'), device_id=Row(column_size=86514, value_count=99232, null_value_count=0, nan_value_count=None, lower_bound='-100210680', upper_bound='999535123'), device_type=Row(column_size=11522, value_count=99232, null_value_count=0, nan_value_count=None, lower_bound='13 Pro Max', upper_bound='vivo $2'), event_date=Row(column_size=2373, value_count=99232, null_value_count=0, nan_value_count=None, lower_bound=datetime.datetime(2021, 1, 8, 0, 0), upper_bound=datetime.datetime(2023, 8, 18, 0, 0)), event_time=Row(column_size=475862, value_count=99232, null_value_count=0, nan_value_count=None, lower_bound=datetime.datetime(2021, 1, 8, 0, 2, 29, 513000), upper_bound=datetime.datetime(2023, 8, 18, 23, 59, 0, 901000)), host=Row(column_size=9119, value_count=99232, null_value_count=0, nan_value_count=None, lower_bound='abhishekanand.te', upper_bound='zsavi524.techcrf'), os_family=Row(column_size=16543, value_count=99232, null_value_count=0, nan_value_count=None, lower_bound='Android', upper_bound='iOS'), referrer=Row(column_size=67363, value_count=99232, null_value_count=49299, nan_value_count=None, lower_bound='\"https://www.goo', upper_bound='zachwilson.tech'), url=Row(column_size=142178, value_count=99232, null_value_count=0, nan_value_count=None, lower_bound='\"/?\"\"<?=print(93', upper_bound='/zz.php'), user_id=Row(column_size=337013, value_count=99232, null_value_count=58, nan_value_count=None, lower_bound='-1000370060', upper_bound='999956796')) |\n",
       "|       0 | s3://warehouse/bootcamp/events_sorted/data/00002-135-6fe482e3-7684-4d8d-92e5-c51f0046db1c-0-00001.parquet |     PARQUET |       1 | Row(event_date_year=None) |        93956 |            1354863 |  {1: 345976, 2: 86611, 3: 10966, 4: 12894, 5: 8590, 6: 447243, 7: 2037, 8: 86885, 9: 336434, 10: 12138} |           {1: 93956, 2: 93956, 3: 93956, 4: 93956, 5: 93956, 6: 93956, 7: 93956, 8: 93956, 9: 93956, 10: 93956} |  {1: 0, 2: 48227, 3: 1, 4: 1, 5: 0, 6: 0, 7: 0, 8: 0, 9: 0, 10: 1} |               {} | {1: bytearray(b'\"/?\"\"<?=print(93'), 2: bytearray(b'\"https://www.goo'), 3: bytearray(b') Bot'), 4: bytearray(b'Android'), 5: bytearray(b'ablumhardt.techc'), 6: bytearray(b'\\x18\\xe8_\\xb2\\xf3\\xb7\\x05\\x00'), 7: bytearray(b'\\x00@\\x94\\xa7\\xf3\\xb7\\x05\\x00'), 8: bytearray(b'-1000866068'), 9: bytearray(b'-1000675882'), 10: bytearray(b'ALP-AL00')} |  {1: bytearray(b'/zz/address.php@'), 2: bytearray(b'zachwilson.tech'), 3: bytearray(b'webprosbot'), 4: bytearray(b'webOS'), 5: bytearray(b'zzz.techcreator/'), 6: bytearray(b'HE\\xdbM\\xb3\\x03\\x06\\x00'), 7: bytearray(b'\\x00`\\xc2\\xe8\\x9f\\x03\\x06\\x00'), 8: bytearray(b'998961543'), 9: bytearray(b'999956796'), 10: bytearray(b'vivo $2')} |         None |           [4] |         None |             0 |                 None |           None |                  None | Row(browser_family=Row(column_size=10966, value_count=93956, null_value_count=1, nan_value_count=None, lower_bound=') Bot', upper_bound='webprosbot'), device_id=Row(column_size=86885, value_count=93956, null_value_count=0, nan_value_count=None, lower_bound='-1000866068', upper_bound='998961543'), device_type=Row(column_size=12138, value_count=93956, null_value_count=1, nan_value_count=None, lower_bound='ALP-AL00', upper_bound='vivo $2'), event_date=Row(column_size=2037, value_count=93956, null_value_count=0, nan_value_count=None, lower_bound=datetime.datetime(2021, 1, 3, 0, 0), upper_bound=datetime.datetime(2023, 8, 24, 0, 0)), event_time=Row(column_size=447243, value_count=93956, null_value_count=0, nan_value_count=None, lower_bound=datetime.datetime(2021, 1, 3, 0, 3, 1, 119000), upper_bound=datetime.datetime(2023, 8, 24, 23, 8, 20, 509000)), host=Row(column_size=8590, value_count=93956, null_value_count=0, nan_value_count=None, lower_bound='ablumhardt.techc', upper_bound='zzz.techcreator/'), os_family=Row(column_size=12894, value_count=93956, null_value_count=1, nan_value_count=None, lower_bound='Android', upper_bound='webOS'), referrer=Row(column_size=86611, value_count=93956, null_value_count=48227, nan_value_count=None, lower_bound='\"https://www.goo', upper_bound='zachwilson.tech'), url=Row(column_size=345976, value_count=93956, null_value_count=0, nan_value_count=None, lower_bound='\"/?\"\"<?=print(93', upper_bound='/zz/address.php@'), user_id=Row(column_size=336434, value_count=93956, null_value_count=0, nan_value_count=None, lower_bound='-1000675882', upper_bound='999956796')) |\n",
       "|       0 | s3://warehouse/bootcamp/events_sorted/data/00003-136-6fe482e3-7684-4d8d-92e5-c51f0046db1c-0-00001.parquet |     PARQUET |       1 | Row(event_date_year=None) |       122235 |            1542438 | {1: 284361, 2: 87456, 3: 11525, 4: 16894, 5: 9348, 6: 558677, 7: 2178, 8: 110135, 9: 442488, 10: 13563} | {1: 122235, 2: 122235, 3: 122235, 4: 122235, 5: 122235, 6: 122235, 7: 122235, 8: 122235, 9: 122235, 10: 122235} |  {1: 0, 2: 53009, 3: 0, 4: 0, 5: 0, 6: 0, 7: 0, 8: 0, 9: 8, 10: 0} |               {} |                             {1: bytearray(b'/'), 2: bytearray(b'3.220.57.224'), 3: bytearray(b') Bot'), 4: bytearray(b'Android'), 5: bytearray(b'accc.techcreator'), 6: bytearray(b'@n.\\xbd\\xdf\\xb7\\x05\\x00'), 7: bytearray(b'\\x00\\xe0\\xbc\\x89\\xdf\\xb7\\x05\\x00'), 8: bytearray(b'-1001669954'), 9: bytearray(b'-1000015881'), 10: bytearray(b'$2')} | {1: bytearray(b'/zz.php'), 2: bytearray(b'zachwilson.tech'), 3: bytearray(b'webprosbot'), 4: bytearray(b'iOS'), 5: bytearray(b'zachwilson.techd'), 6: bytearray(b'\\xd8\\xaf\\x9a\\xe8\\x9f\\x03\\x06\\x00'), 7: bytearray(b'\\x00\\x00\\xeb\\xca\\x8b\\x03\\x06\\x00'), 8: bytearray(b'998766634'), 9: bytearray(b'999882344'), 10: bytearray(b'vivo $2')} |         None |           [4] |         None |             0 |                 None |           None |                  None |                        Row(browser_family=Row(column_size=11525, value_count=122235, null_value_count=0, nan_value_count=None, lower_bound=') Bot', upper_bound='webprosbot'), device_id=Row(column_size=110135, value_count=122235, null_value_count=0, nan_value_count=None, lower_bound='-1001669954', upper_bound='998766634'), device_type=Row(column_size=13563, value_count=122235, null_value_count=0, nan_value_count=None, lower_bound='$2', upper_bound='vivo $2'), event_date=Row(column_size=2178, value_count=122235, null_value_count=0, nan_value_count=None, lower_bound=datetime.datetime(2021, 1, 2, 0, 0), upper_bound=datetime.datetime(2023, 8, 23, 0, 0)), event_time=Row(column_size=558677, value_count=122235, null_value_count=0, nan_value_count=None, lower_bound=datetime.datetime(2021, 1, 2, 0, 14, 23, 80000), upper_bound=datetime.datetime(2023, 8, 23, 23, 59, 57, 399000)), host=Row(column_size=9348, value_count=122235, null_value_count=0, nan_value_count=None, lower_bound='accc.techcreator', upper_bound='zachwilson.techd'), os_family=Row(column_size=16894, value_count=122235, null_value_count=0, nan_value_count=None, lower_bound='Android', upper_bound='iOS'), referrer=Row(column_size=87456, value_count=122235, null_value_count=53009, nan_value_count=None, lower_bound='3.220.57.224', upper_bound='zachwilson.tech'), url=Row(column_size=284361, value_count=122235, null_value_count=0, nan_value_count=None, lower_bound='/', upper_bound='/zz.php'), user_id=Row(column_size=442488, value_count=122235, null_value_count=8, nan_value_count=None, lower_bound='-1000015881', upper_bound='999882344')) |\n",
       "+---------+-----------------------------------------------------------------------------------------------------------+-------------+---------+---------------------------+--------------+--------------------+---------------------------------------------------------------------------------------------------------+-----------------------------------------------------------------------------------------------------------------+--------------------------------------------------------------------+------------------+-----------------------------------------------------------------------------------------------------------------------------------------------------------------------------------------------------------------------------------------------------------------------------------------------------------------------------------------------------+---------------------------------------------------------------------------------------------------------------------------------------------------------------------------------------------------------------------------------------------------------------------------------------------------------------------------------------------+--------------+---------------+--------------+---------------+----------------------+----------------+-----------------------+--------------------------------------------------------------------------------------------------------------------------------------------------------------------------------------------------------------------------------------------------------------------------------------------------------------------------------------------------------------------------------------------------------------------------------------------------------------------------------------------------------------------------------------------------------------------------------------------------------------------------------------------------------------------------------------------------------------------------------------------------------------------------------------------------------------------------------------------------------------------------------------------------------------------------------------------------------------------------------------------------------------------------------------------------------------------------------------------------------------------------------------------------------------------------------------------------------------------------------------------------------------------------------------------------------------------------------------------------------------------------------------------------------------------------------------------------------------------------------------------------------------------------------------------------------------------------------------------------------------------------------------------------------------------------+"
      ]
     },
     "execution_count": 37,
     "metadata": {},
     "output_type": "execute_result"
    }
   ],
   "source": [
    "%%sql\n",
    "select * from bootcamp.events_sorted.files;"
   ]
  },
  {
   "cell_type": "code",
   "execution_count": 52,
   "id": "b79648ab-be83-4c2b-bafa-affd7142dec7",
   "metadata": {},
   "outputs": [
    {
     "data": {
      "text/html": [
       "<table>\n",
       "    <thead>\n",
       "        <tr>\n",
       "            <th>size</th>\n",
       "            <th>num_files</th>\n",
       "            <th>sorted</th>\n",
       "        </tr>\n",
       "    </thead>\n",
       "    <tbody>\n",
       "        <tr>\n",
       "            <td>5089149</td>\n",
       "            <td>4</td>\n",
       "            <td>sorted</td>\n",
       "        </tr>\n",
       "        <tr>\n",
       "            <td>5556660</td>\n",
       "            <td>4</td>\n",
       "            <td>unsorted</td>\n",
       "        </tr>\n",
       "    </tbody>\n",
       "</table>"
      ],
      "text/plain": [
       "+---------+-----------+----------+\n",
       "|    size | num_files |   sorted |\n",
       "+---------+-----------+----------+\n",
       "| 5089149 |         4 |   sorted |\n",
       "| 5556660 |         4 | unsorted |\n",
       "+---------+-----------+----------+"
      ]
     },
     "execution_count": 52,
     "metadata": {},
     "output_type": "execute_result"
    }
   ],
   "source": [
    "%%sql\n",
    "select SUM(file_size_in_bytes) as size, COUNT(1) as num_files, 'sorted'\n",
    "from bootcamp.events_sorted.files\n",
    "\n",
    "UNION ALL\n",
    "\n",
    "select SUM(file_size_in_bytes) as size, COUNT(1) as num_files, 'unsorted'\n",
    "from bootcamp.events_unsorted.files;"
   ]
  },
  {
   "cell_type": "code",
   "execution_count": null,
   "id": "ccbad434-17d9-41ef-b56d-29a22181b321",
   "metadata": {},
   "outputs": [],
   "source": []
  }
 ],
 "metadata": {
  "kernelspec": {
   "display_name": "Python 3 (ipykernel)",
   "language": "python",
   "name": "python3"
  },
  "language_info": {
   "codemirror_mode": {
    "name": "ipython",
    "version": 3
   },
   "file_extension": ".py",
   "mimetype": "text/x-python",
   "name": "python",
   "nbconvert_exporter": "python",
   "pygments_lexer": "ipython3",
   "version": "3.10.16"
  }
 },
 "nbformat": 4,
 "nbformat_minor": 5
}
